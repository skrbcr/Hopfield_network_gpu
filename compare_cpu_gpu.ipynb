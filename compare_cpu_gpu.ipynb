{
 "cells": [
  {
   "cell_type": "markdown",
   "id": "188c087f-86da-4078-852a-5b52b485c889",
   "metadata": {},
   "source": [
    "# Compare execution time between CPU and GPU version"
   ]
  },
  {
   "cell_type": "markdown",
   "id": "c6f57fc4-475a-43ca-8997-b7a2b8681be1",
   "metadata": {},
   "source": [
    "This notebook compares the execution time of Hopfield network between CPU and GPU.\n",
    "\n",
    "For reference, on my environment:\n",
    "\n",
    "- CPU (AMD Ryzen 7 7700): 8.04(7) s\n",
    "- GPU (NVIDIA GeForce RTX 4060): 0.042(1) s"
   ]
  },
  {
   "cell_type": "markdown",
   "id": "8d7c9ea4-9081-4ebc-ab93-063fec47a978",
   "metadata": {},
   "source": [
    "## Common process"
   ]
  },
  {
   "cell_type": "code",
   "execution_count": 1,
   "id": "125736b7-d9ee-4e65-a9e9-3f16992ab2f2",
   "metadata": {},
   "outputs": [],
   "source": [
    "import sys\n",
    "import os\n",
    "import numpy as np\n",
    "import cupy as cp\n",
    "import cv2\n",
    "import matplotlib.pyplot as plt\n",
    "\n",
    "current_dir = os.getcwd()\n",
    "\n",
    "if 'google.colab' in sys.modules:\n",
    "    !git clone https://github.com/skrbcr/Hopfield_network_gpu.git\n",
    "    %cd Hopfield_network_gpu\n",
    "    sys.path.append('/content/Hopfield_network_gpu/')\n",
    "    current_dir += '/Hopfield_network_gpu'\n",
    "else:\n",
    "    sys.path.append(os.path.dirname(current_dir))"
   ]
  },
  {
   "cell_type": "code",
   "execution_count": 2,
   "id": "b5a7dff2-4da6-411d-b128-ccccd6d55acb",
   "metadata": {},
   "outputs": [],
   "source": [
    "image_name = f\"{current_dir}/github.png\"  # Pattern image\n",
    "P = 100  # Number of pattern\n",
    "M0 = 0.7  # Initial m^0\n",
    "DELTA_M = 0.001  # Convergence threshold for M0 (m^0)\n",
    "MAX_STEPS = 100  # Max step for recalling"
   ]
  },
  {
   "cell_type": "code",
   "execution_count": 3,
   "id": "dafb77ce-209c-4605-814c-2a0e91ce6a52",
   "metadata": {},
   "outputs": [],
   "source": [
    "image = cv2.imread(image_name, cv2.IMREAD_GRAYSCALE)\n",
    "if image is None:\n",
    "    print(f\"[Error] Cannot open \\\"{image_name}\\\"\")\n",
    "    sys.exit(-1)"
   ]
  },
  {
   "cell_type": "markdown",
   "id": "2c7ea204-b67e-4e60-9733-5b475717ffb0",
   "metadata": {},
   "source": [
    "## GPU (NumPy and CuPy) version"
   ]
  },
  {
   "cell_type": "code",
   "execution_count": 4,
   "id": "db904675-3526-48fc-97c9-be3cce12cc13",
   "metadata": {},
   "outputs": [
    {
     "name": "stdout",
     "output_type": "stream",
     "text": [
      "43.7 ms ± 1.1 ms per loop (mean ± std. dev. of 7 runs, 1 loop each)\n"
     ]
    }
   ],
   "source": [
    "%%timeit\n",
    "\n",
    "# Memorize\n",
    "xi0 = cp.where(cp.asarray(image.reshape(-1)) == 255, 1, -1)\n",
    "N = xi0.size\n",
    "width = image[0].size\n",
    "height = N // width\n",
    "\n",
    "cp.random.seed(np.uint64(1234))\n",
    "\n",
    "xi = cp.random.choice([-1, 1], size=(P, N))\n",
    "J = (cp.outer(xi0, xi0) + xi.T @ xi) / N\n",
    "\n",
    "# Recall\n",
    "s = xi0.copy()\n",
    "indices = cp.random.choice(N, size=int(N * (1 - M0) / 2), replace=False)\n",
    "s[indices] = -s[indices]\n",
    "\n",
    "m = [float(cp.dot(xi0, s) / N)]\n",
    "\n",
    "for _ in range(MAX_STEPS):\n",
    "    s = cp.where((J @ s) >= 0, 1, -1)\n",
    "    m.append(float(cp.dot(xi0, s) / N))\n",
    "    if cp.abs(m[-1] - m[-2]) <= DELTA_M:\n",
    "        break"
   ]
  },
  {
   "cell_type": "markdown",
   "id": "47705431-98d4-4f88-a78c-a7402dea6e02",
   "metadata": {},
   "source": [
    "## CPU (NumPy only) version"
   ]
  },
  {
   "cell_type": "markdown",
   "id": "76371c29-ce8c-49c9-889a-eea255794658",
   "metadata": {},
   "source": [
    "**NOTICE**\n",
    "\n",
    "CPU version takes loooong time to finish the calculation. Please be patient..."
   ]
  },
  {
   "cell_type": "code",
   "execution_count": 5,
   "id": "411ca2b1-093e-43a7-a293-c564d745c2d6",
   "metadata": {},
   "outputs": [
    {
     "name": "stdout",
     "output_type": "stream",
     "text": [
      "8.17 s ± 74.7 ms per loop (mean ± std. dev. of 7 runs, 1 loop each)\n"
     ]
    }
   ],
   "source": [
    "%%timeit\n",
    "\n",
    "# Memorize\n",
    "xi0 = np.where(image.reshape(-1) == 255, 1, -1)\n",
    "N = xi0.size\n",
    "width = image[0].size\n",
    "height = N // width\n",
    "\n",
    "np.random.seed(np.uint64(1234))\n",
    "\n",
    "xi = np.random.choice([-1, 1], size=(P, N))\n",
    "J = (np.outer(xi0, xi0) + xi.T @ xi) / N\n",
    "\n",
    "# Recall\n",
    "s = xi0.copy()\n",
    "indices = np.random.choice(N, size=int(N * (1 - M0) / 2), replace=False)\n",
    "s[indices] = -s[indices]\n",
    "\n",
    "m = [float(np.dot(xi0, s) / N)]\n",
    "\n",
    "for _ in range(MAX_STEPS):\n",
    "    s = np.where((J @ s) >= 0, 1, -1)\n",
    "    m.append(float(np.dot(xi0, s) / N))\n",
    "    if np.abs(m[-1] - m[-2]) <= DELTA_M:\n",
    "        break"
   ]
  },
  {
   "cell_type": "code",
   "execution_count": null,
   "id": "262200b4-29e1-4aa0-bf72-c4d549fe0a05",
   "metadata": {},
   "outputs": [],
   "source": []
  }
 ],
 "metadata": {
  "kernelspec": {
   "display_name": "Python 3 (ipykernel)",
   "language": "python",
   "name": "python3"
  },
  "language_info": {
   "codemirror_mode": {
    "name": "ipython",
    "version": 3
   },
   "file_extension": ".py",
   "mimetype": "text/x-python",
   "name": "python",
   "nbconvert_exporter": "python",
   "pygments_lexer": "ipython3",
   "version": "3.12.7"
  }
 },
 "nbformat": 4,
 "nbformat_minor": 5
}
