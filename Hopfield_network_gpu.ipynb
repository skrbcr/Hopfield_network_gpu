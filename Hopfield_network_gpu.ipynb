{
 "cells": [
  {
   "cell_type": "markdown",
   "id": "2542149b-df44-4c46-a44e-5f09693809ec",
   "metadata": {},
   "source": [
    "# Hopfield Network GPU"
   ]
  },
  {
   "cell_type": "code",
   "execution_count": 5,
   "id": "1bcaf151-51fd-43aa-8ef1-9d7171e9540e",
   "metadata": {},
   "outputs": [],
   "source": [
    "import sys\n",
    "import os\n",
    "import numpy as np\n",
    "import cupy as cp\n",
    "import cv2\n",
    "import matplotlib.pyplot as plt"
   ]
  },
  {
   "cell_type": "markdown",
   "id": "74a2e22e-189f-47c7-8d10-2b8c9606499d",
   "metadata": {},
   "source": [
    "### Settings"
   ]
  },
  {
   "cell_type": "code",
   "execution_count": 88,
   "id": "4522415b-7d75-49dc-8c4e-d085b4174d85",
   "metadata": {},
   "outputs": [],
   "source": [
    "image_name = \"github.png\"  # Pattern image\n",
    "P = 1000  # Number of pattern\n",
    "M0 = 0.6  # Initial m^0\n",
    "DELTA_M = 0.001  # Convergence threshold for M0 (m^0)\n",
    "MAX_STEPS = 100  # Max step for recalling"
   ]
  },
  {
   "cell_type": "markdown",
   "id": "0ec7199c-fc14-42e5-9f27-ec42e17f625f",
   "metadata": {},
   "source": [
    "### Memorize"
   ]
  },
  {
   "cell_type": "code",
   "execution_count": 89,
   "id": "95a4a92f-c9e1-4e20-9570-7288cd3f69d8",
   "metadata": {},
   "outputs": [],
   "source": [
    "# Open Image\n",
    "image = cv2.imread(image_name, cv2.IMREAD_GRAYSCALE)\n",
    "if image is None:\n",
    "    print(f\"[Error] Cannot open \\\"{image_name}\\\"\")\n",
    "    sys.exit(-1)\n",
    "xi0 = cp.where(cp.asarray(image.reshape(-1)) == 255, 1, -1)\n",
    "N = xi0.size\n",
    "width = image[0].size\n",
    "height = N // width\n",
    "\n",
    "# Create matrix J\n",
    "cp.random.seed(np.uint64(1234))\n",
    "xi = cp.random.choice([-1, 1], size=(P, N))\n",
    "J = (cp.outer(xi0, xi0) + xi.T @ xi) / N"
   ]
  },
  {
   "cell_type": "markdown",
   "id": "8709caea-ef01-4619-a354-a84480cca704",
   "metadata": {},
   "source": [
    "### Recall"
   ]
  },
  {
   "cell_type": "code",
   "execution_count": 92,
   "id": "d17391c2-51ec-4b39-b431-041c8030d2b0",
   "metadata": {},
   "outputs": [],
   "source": [
    "# Resize function to fit image to FHD while preserving aspect ratio\n",
    "def resize_to_fhd(image):\n",
    "    # Calculate scale to maintain aspect ratio\n",
    "    scale = min(1920 / width, 1080 / height)\n",
    "    new_width = int(width * scale)\n",
    "    new_height = int(height * scale)\n",
    "    \n",
    "    resized_image = cv2.resize(image, (new_width, new_height), interpolation=cv2.INTER_AREA)\n",
    "    fhd_image = np.zeros((1080, 1920), dtype=np.uint8)\n",
    "\n",
    "    x_offset = (1920 - new_width) // 2\n",
    "    y_offset = (1080 - new_height) // 2\n",
    "    fhd_image[y_offset:y_offset+new_height, x_offset:x_offset+new_width] = resized_image\n",
    "\n",
    "    return fhd_image"
   ]
  },
  {
   "cell_type": "code",
   "execution_count": 95,
   "id": "3887b9bc-6fe8-4915-a29f-284a779b83bb",
   "metadata": {},
   "outputs": [
    {
     "data": {
      "image/png": "[encoded data removed]",
      "text/plain": [
       "<Figure size 640x480 with 1 Axes>"
      ]
     },
     "metadata": {},
     "output_type": "display_data"
    }
   ],
   "source": [
    "# Initial state setup\n",
    "s = xi0.copy()\n",
    "indices = cp.random.choice(N, size=int(N * (1 - M0) / 2), replace=False)\n",
    "s[indices] = -s[indices]\n",
    "\n",
    "m = [float(cp.dot(xi0, s) / N)]\n",
    "\n",
    "# Prepare video file\n",
    "outname = f'{os.path.splitext(os.path.basename(image_name))[0]}_P_{P}_M0_{M0}.mp4'\n",
    "fourcc = cv2.VideoWriter_fourcc(*'mp4v')\n",
    "video = cv2.VideoWriter(outname, fourcc, 1, (1920, 1080), isColor=False)\n",
    "if not video.isOpened():\n",
    "    print(f\"[Error] Cannot open \\\"{outname}\\\"\")\n",
    "    sys.exit(-1)\n",
    "\n",
    "# Write initial state\n",
    "video.write(resize_to_fhd(cp.where(s.reshape((height, width)) == 1, 255, 0).get().astype(np.uint8)))\n",
    "\n",
    "# Steps\n",
    "for _ in range(MAX_STEPS):\n",
    "    s = cp.where((J @ s) >= 0, 1, -1)\n",
    "    video.write(resize_to_fhd(cp.where(s.reshape((height, width)) == 1, 255, 0).get().astype(np.uint8)))\n",
    "    m.append(float(cp.dot(xi0, s) / N))\n",
    "    if cp.abs(m[-1] - m[-2]) <= DELTA_M:\n",
    "        break\n",
    "\n",
    "video.release()\n",
    "\n",
    "# Plot results\n",
    "fig, ax = plt.subplots()\n",
    "ax.grid()\n",
    "ax.set_title(f'Number of patterns = {P}, $m^0(t=0) = ${M0}')\n",
    "ax.plot(np.arange(len(m)), m, 'ro')\n",
    "ax.set_xlabel('Steps')\n",
    "ax.set_ylabel('$m^0$')\n",
    "ax.set_ylim(top=1.01)\n",
    "plt.show()"
   ]
  },
  {
   "cell_type": "code",
   "execution_count": null,
   "id": "787deae8-c723-4a0f-a0c7-1f458155f314",
   "metadata": {},
   "outputs": [],
   "source": []
  }
 ],
 "metadata": {
  "kernelspec": {
   "display_name": "Python 3 (ipykernel)",
   "language": "python",
   "name": "python3"
  },
  "language_info": {
   "codemirror_mode": {
    "name": "ipython",
    "version": 3
   },
   "file_extension": ".py",
   "mimetype": "text/x-python",
   "name": "python",
   "nbconvert_exporter": "python",
   "pygments_lexer": "ipython3",
   "version": "3.12.4"
  }
 },
 "nbformat": 4,
 "nbformat_minor": 5
}
