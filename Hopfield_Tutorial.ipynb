{
 "cells": [
  {
   "cell_type": "markdown",
   "id": "d0a50796",
   "metadata": {},
   "source": [
    "# Tutorial for Hopfield network and `Hopfield` module"
   ]
  },
  {
   "cell_type": "markdown",
   "id": "cb43a20b-7590-4559-83a1-fa68d7404258",
   "metadata": {},
   "source": [
    "## Introduction"
   ]
  },
  {
   "cell_type": "markdown",
   "id": "77eee0da-b4af-4f57-8819-853faadbaa32",
   "metadata": {},
   "source": [
    "This tutorial provides a brief overview of the Hopfield network and demonstrates how to use the Hopfield module to implement this type of neural network.\n",
    "The Hopfield network is a recurrent neural network that is often used for associative memory tasks.\n",
    "It can store patterns and recall them even when provided with noisy or incomplete input data.\n",
    "\n",
    "**Note:** This tutorial was created with the assistance of ChatGPT.\n"
   ]
  },
  {
   "cell_type": "markdown",
   "id": "c99c3842-eea5-4574-a66c-3decf412565c",
   "metadata": {},
   "source": [
    "### What is a Hopfield Network?"
   ]
  },
  {
   "cell_type": "markdown",
   "id": "9b612a5d-7a89-47e3-9abf-f9e21cdc2e41",
   "metadata": {},
   "source": [
    "A Hopfield network is a type of artificial neural network used for associative memory tasks.\n",
    "It is capable of storing patterns and recalling them even when presented with noisy or incomplete input.\n",
    "The network mimics how the brain recalls memories by iteratively updating neurons based on their interactions with other neurons.\n"
   ]
  },
  {
   "cell_type": "markdown",
   "id": "d7183157",
   "metadata": {},
   "source": [
    "## Using the Hopfield Class"
   ]
  },
  {
   "cell_type": "markdown",
   "id": "91b646c6",
   "metadata": {},
   "source": [
    "### Step 1: Import the HopfieldVis class"
   ]
  },
  {
   "cell_type": "markdown",
   "id": "a24d484a-a9d1-4067-b62a-2b99af011257",
   "metadata": {},
   "source": [
    "First, we need to import the `HopfieldVis` class from the `Hopfield` module."
   ]
  },
  {
   "cell_type": "code",
   "execution_count": 2,
   "id": "d221a2cf",
   "metadata": {},
   "outputs": [],
   "source": [
    "import sys\n",
    "import os\n",
    "sys.path.append('.')\n",
    "\n",
    "current_dir = os.getcwd()\n",
    "\n",
    "if 'google.colab' in sys.modules:\n",
    "    !git clone https://github.com/skrbcr/Hopfield_network_gpu.git\n",
    "    %cd Hopfield_network_gpu\n",
    "    sys.path.append('/content/Hopfield_network_gpu/')\n",
    "    current_dir += '/Hopfield_network_gpu'\n",
    "else:\n",
    "    sys.path.append(os.path.dirname(current_dir))\n",
    "\n",
    "from Hopfield import HopfieldVis"
   ]
  },
  {
   "cell_type": "markdown",
   "id": "51433c1e",
   "metadata": {},
   "source": [
    "### Step 2: Initialize the associative memory"
   ]
  },
  {
   "cell_type": "markdown",
   "id": "b2405aa1-a601-49d8-9205-0cfb3561cef5",
   "metadata": {},
   "source": [
    "We initialize the associative memory with an image, number of patterns, and initial overlap.\n",
    "You can adjust the parameters `p` (number of patterns to memorize) and `seed` (random seed) as needed."
   ]
  },
  {
   "cell_type": "code",
   "execution_count": 3,
   "id": "379ff5b4",
   "metadata": {},
   "outputs": [],
   "source": [
    "hopfield = HopfieldVis(image_name=f\"{current_dir}/github.png\", p=1000)"
   ]
  },
  {
   "cell_type": "markdown",
   "id": "3d202014",
   "metadata": {},
   "source": [
    "### Step 3: Memorize the pattern"
   ]
  },
  {
   "cell_type": "markdown",
   "id": "7fc89414-661f-40bd-b5f8-81373ecbbf82",
   "metadata": {},
   "source": [
    "The `memorize` method memorizes the input pattern using a synaptic matrix `J` generated from the input patterns."
   ]
  },
  {
   "cell_type": "markdown",
   "id": "7ff11687-a907-4ac6-80b8-1e8c89c29a0a",
   "metadata": {},
   "source": [
    "**Mathematical Principle Behind Memorization**\n",
    "\n",
    "In the Hopfield network, the synaptic matrix $J$ is calculated based on the input patterns. This matrix is defined as:\n",
    "$$\n",
    "J_{ij} = \\frac{1}{N} \\sum_{\\mu = 1}^{p} \\xi_i^\\mu \\xi_j^\\mu\n",
    "$$\n",
    "where $\\xi_i^\\mu$ represents the state of neuron $i$ in the $\\mu$-th pattern.\n",
    "For instance, for monochromatic image, \n",
    "$$\n",
    "\\xi_i^\\mu = \n",
    "\\begin{cases}\n",
    "    1  & \\text{if $i$-th pixel is white} \\\\\n",
    "    -1 & \\text{if $i$-th pixel is black}\n",
    "\\end{cases}\n",
    "$$\n",
    "\n",
    "This equation allows the network to store the patterns by adjusting the interactions between neurons.\n"
   ]
  },
  {
   "cell_type": "code",
   "execution_count": 4,
   "id": "4dc02223",
   "metadata": {},
   "outputs": [],
   "source": [
    "hopfield.memorize()"
   ]
  },
  {
   "cell_type": "markdown",
   "id": "3485ac33",
   "metadata": {},
   "source": [
    "### Step 4: Recall the pattern"
   ]
  },
  {
   "cell_type": "markdown",
   "id": "4dc04dca-0b4a-4243-9b05-16a113920b94",
   "metadata": {},
   "source": [
    "The `recall` method simulates the Hopfield network dynamics to recall the pattern.\n",
    "You can adjust the parameters `m0` (initial overlap), `delta_m` (convergence threshold), `max_steps` (maximum recall steps).\n",
    "\n",
    "It stores the states of the network and the overlap `m` at each step."
   ]
  },
  {
   "cell_type": "markdown",
   "id": "847f06b0-6d91-4c52-821e-83dd7a7dc9f1",
   "metadata": {},
   "source": [
    "**Mathematical Principle Behind Recall**\n",
    "\n",
    "During the recall process, the state of each neuron is updated according to the following rule:\n",
    "$$\n",
    "S_i(t + \\Delta t) = \\mathrm{sgn}\\left(\\sum_{j = 1}^{N} J_{ij}S_j(t)\\right)\n",
    "$$\n",
    "This update rule ensures that the network converges towards one of the stored patterns, even if the initial input is noisy or incomplete.\n",
    "\n",
    "How much the state of neuron is simillar to the image pattern is described as overlap `m`:\n",
    "\n",
    "$$\n",
    "m = \\frac{1}{N} \\sum_{i=1}^{N} \\xi_i S_i\n",
    "$$\n",
    "where $S_i$ is the state of neuron $i$."
   ]
  },
  {
   "cell_type": "code",
   "execution_count": 5,
   "id": "12589d6b",
   "metadata": {},
   "outputs": [],
   "source": [
    "hopfield.recall(m0=0.7)"
   ]
  },
  {
   "cell_type": "markdown",
   "id": "e793596a",
   "metadata": {},
   "source": [
    "### Step 5: Plot the overlap m"
   ]
  },
  {
   "cell_type": "markdown",
   "id": "446b48a2-9efa-4bd9-893f-9749ae94c846",
   "metadata": {},
   "source": [
    "The `plot_m` method plots the overlap `m` as a function of the recall steps.\n",
    "You can save the plot by specifying a `save_name`."
   ]
  },
  {
   "cell_type": "code",
   "execution_count": 6,
   "id": "c81d8194-fade-4d63-b4ad-1ae992b0f180",
   "metadata": {},
   "outputs": [
    {
     "data": {
      "image/png": "[encoded data removed]",
      "text/plain": [
       "<Figure size 640x480 with 1 Axes>"
      ]
     },
     "metadata": {},
     "output_type": "display_data"
    }
   ],
   "source": [
    "hopfield.plot_m(save_name=\"tutorial_plot_m.png\")"
   ]
  },
  {
   "cell_type": "markdown",
   "id": "fbc195b0-b722-4d5c-a9cb-557b17ba3eae",
   "metadata": {},
   "source": [
    "You should find that the overlap `m` convergence to 1.\n",
    "This means that the original image is restored."
   ]
  },
  {
   "cell_type": "markdown",
   "id": "b3464775",
   "metadata": {},
   "source": [
    "### Step 6: Save the recall process as a video"
   ]
  },
  {
   "cell_type": "markdown",
   "id": "c7bea329-be26-4a91-b4ac-2a4c10bc8e62",
   "metadata": {},
   "source": [
    "The `save_video` method saves the recall process as a video.\n",
    "You can specify the output video name and the output size (default is 1920 x 1080)."
   ]
  },
  {
   "cell_type": "code",
   "execution_count": 7,
   "id": "936a06fa",
   "metadata": {},
   "outputs": [],
   "source": [
    "hopfield.save_video(output_name=\"turorial_recall_video.mp4\", output_size=(1280, 720))"
   ]
  },
  {
   "cell_type": "markdown",
   "id": "8535b91a",
   "metadata": {},
   "source": [
    "### Step 7: Free the GPU memory (Optional)"
   ]
  },
  {
   "cell_type": "markdown",
   "id": "1008723c-5170-4230-896f-c0b440bfc2c4",
   "metadata": {},
   "source": [
    "Finally, the `free` method releases all resources held by the class and resets its state.\n",
    "Because all the memory will be released when you close the notebook or the program is completed, this is not necessary.\n",
    "Please run this when the GPU memory (VRAM) is full up and you want to release them.\n",
    "\n",
    "If the return is (0, 0, 0), VRAM is freed normally."
   ]
  },
  {
   "cell_type": "code",
   "execution_count": 8,
   "id": "09fb40c3",
   "metadata": {},
   "outputs": [
    {
     "data": {
      "text/plain": [
       "(0, 0, 0)"
      ]
     },
     "execution_count": 8,
     "metadata": {},
     "output_type": "execute_result"
    }
   ],
   "source": [
    "hopfield.free()"
   ]
  },
  {
   "cell_type": "markdown",
   "id": "f932a110",
   "metadata": {},
   "source": [
    "## Conclusion"
   ]
  },
  {
   "cell_type": "markdown",
   "id": "1e62b417-1885-4ce3-96cd-f5efd704cc43",
   "metadata": {},
   "source": [
    "This notebook provided a step-by-step guide on how to use the `HopfieldVis` class for associative memory tasks.\n",
    "The behavior of Hopfield network mainly depends on the number of storing patterns `p`, the data (image) size and initial overlap `m0`.\n",
    "You can experiment with different images, parameters, and settings to explore.\n",
    "\n",
    "Have fun!"
   ]
  },
  {
   "cell_type": "code",
   "execution_count": null,
   "id": "90959394-ef10-4fd1-b5f7-0576fa6d1921",
   "metadata": {},
   "outputs": [],
   "source": []
  }
 ],
 "metadata": {
  "kernelspec": {
   "display_name": "Python 3 (ipykernel)",
   "language": "python",
   "name": "python3"
  },
  "language_info": {
   "codemirror_mode": {
    "name": "ipython",
    "version": 3
   },
   "file_extension": ".py",
   "mimetype": "text/x-python",
   "name": "python",
   "nbconvert_exporter": "python",
   "pygments_lexer": "ipython3",
   "version": "3.12.7"
  }
 },
 "nbformat": 4,
 "nbformat_minor": 5
}
